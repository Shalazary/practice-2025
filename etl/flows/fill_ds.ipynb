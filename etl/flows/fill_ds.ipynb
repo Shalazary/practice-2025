{
 "cells": [
  {
   "cell_type": "code",
   "execution_count": 1,
   "id": "e285c68b",
   "metadata": {},
   "outputs": [],
   "source": [
    "from pyspark.sql import SparkSession"
   ]
  },
  {
   "cell_type": "code",
   "execution_count": 2,
   "id": "9e2cfd0c",
   "metadata": {},
   "outputs": [],
   "source": [
    "spark = SparkSession \\\n",
    ".builder \\\n",
    ".appName(\"App\") \\\n",
    ".master(\"local[*]\") \\\n",
    ".enableHiveSupport() \\\n",
    ".getOrCreate()"
   ]
  },
  {
   "cell_type": "code",
   "execution_count": 3,
   "id": "12f8e3c8",
   "metadata": {},
   "outputs": [
    {
     "data": {
      "text/html": [
       "\n",
       "            <div>\n",
       "                <p><b>SparkSession - hive</b></p>\n",
       "                \n",
       "        <div>\n",
       "            <p><b>SparkContext</b></p>\n",
       "\n",
       "            <p><a href=\"http://56fd946c2f0a:4040\">Spark UI</a></p>\n",
       "\n",
       "            <dl>\n",
       "              <dt>Version</dt>\n",
       "                <dd><code>v3.5.0</code></dd>\n",
       "              <dt>Master</dt>\n",
       "                <dd><code>local[*]</code></dd>\n",
       "              <dt>AppName</dt>\n",
       "                <dd><code>App</code></dd>\n",
       "            </dl>\n",
       "        </div>\n",
       "        \n",
       "            </div>\n",
       "        "
      ],
      "text/plain": [
       "<pyspark.sql.session.SparkSession at 0x7f35a02a7cd0>"
      ]
     },
     "execution_count": 3,
     "metadata": {},
     "output_type": "execute_result"
    }
   ],
   "source": [
    "spark"
   ]
  },
  {
   "cell_type": "code",
   "execution_count": 4,
   "id": "86b56cea",
   "metadata": {},
   "outputs": [
    {
     "data": {
      "text/plain": [
       "DataFrame[]"
      ]
     },
     "execution_count": 4,
     "metadata": {},
     "output_type": "execute_result"
    }
   ],
   "source": [
    "spark.sql(\"CREATE DATABASE IF NOT EXISTS ds\")"
   ]
  },
  {
   "cell_type": "code",
   "execution_count": 8,
   "id": "35e21f81",
   "metadata": {},
   "outputs": [
    {
     "data": {
      "text/plain": [
       "DataFrame[]"
      ]
     },
     "execution_count": 8,
     "metadata": {},
     "output_type": "execute_result"
    }
   ],
   "source": [
    "spark.sql( \"\"\"\n",
    "CREATE TABLE IF NOT EXISTS ds.md_account_d (\n",
    "    data_actual_date DATE,\n",
    "    data_actual_end_date DATE,\n",
    "    account_rk DECIMAL,\n",
    "    account_number STRING,\n",
    "    char_type STRING,\n",
    "    currency_rk DECIMAL,\n",
    "    currency_code STRING\n",
    ")\n",
    "STORED AS PARQUET\n",
    "\"\"\"\n",
    ")"
   ]
  },
  {
   "cell_type": "code",
   "execution_count": 26,
   "id": "16a3c002",
   "metadata": {},
   "outputs": [],
   "source": [
    "data = spark.read.option(\"delimiter\", \";\").csv(\"/home/jovyan/md_account_d.csv\", header=True)"
   ]
  },
  {
   "cell_type": "code",
   "execution_count": 27,
   "id": "26a6153a",
   "metadata": {},
   "outputs": [
    {
     "name": "stdout",
     "output_type": "stream",
     "text": [
      "+----------------+--------------------+----------+--------------------+---------+-----------+-------------+\n",
      "|DATA_ACTUAL_DATE|DATA_ACTUAL_END_DATE|ACCOUNT_RK|      ACCOUNT_NUMBER|CHAR_TYPE|CURRENCY_RK|CURRENCY_CODE|\n",
      "+----------------+--------------------+----------+--------------------+---------+-----------+-------------+\n",
      "|      2018-01-01|          2018-01-31|  36237725|30425840700000583001|        А|         35|          840|\n",
      "|      2018-01-01|          2018-01-31|     24656|30114840700000770002|        А|         35|          840|\n",
      "|      2018-01-01|          2018-01-31|  18849846|30109810500000435003|        П|         34|          643|\n",
      "|      2018-01-01|          2018-01-31|   1972647|30111810700000908001|        П|         34|          643|\n",
      "|      2018-01-01|          2018-01-31|  34157174|30424810100000583001|        А|         34|          643|\n",
      "|      2018-01-01|          2018-01-31|  48829156|30425810700000583002|        А|         34|          643|\n",
      "|      2018-01-01|          2018-01-31|     13905|30202810900000002001|        А|         34|          643|\n",
      "|      2018-01-01|          2018-01-31|     17244|30111810900000672001|        П|         34|          643|\n",
      "|      2018-01-01|          2018-01-31|  34156787|30236826400000009001|        П|         31|          826|\n",
      "|      2018-01-01|          2018-01-31|     17132|30111810000000666001|        П|         34|          643|\n",
      "|      2018-01-01|          2018-01-31|     13560|30110810300000008001|        А|         34|          643|\n",
      "|      2018-01-01|          2018-01-31|     17439|30111810500000438001|        П|         34|          643|\n",
      "|      2018-01-01|          2018-01-31|     17434|30111810900000051004|        П|         34|          643|\n",
      "|      2018-01-01|          2018-01-31|     13630|30102810900000002185|        А|         34|          643|\n",
      "|      2018-01-01|          2018-01-31| 277937699|30221810900000026000|        А|         34|          643|\n",
      "|      2018-01-01|          2018-01-31|     13906|30114756800000051003|        А|         30|          756|\n",
      "|      2018-01-01|          2018-01-31|     14136|30220826800838890001|        П|         31|          826|\n",
      "|      2018-01-01|          2018-01-31|     13904|30204810500000002001|        А|         34|          643|\n",
      "|      2018-01-01|          2018-01-31|  34157147|30236840000000003001|        П|         35|          840|\n",
      "|      2018-01-01|          2018-01-31|     14138|30220978800838890001|        П|         44|          978|\n",
      "+----------------+--------------------+----------+--------------------+---------+-----------+-------------+\n",
      "only showing top 20 rows\n",
      "\n"
     ]
    }
   ],
   "source": [
    "data.show()"
   ]
  },
  {
   "cell_type": "code",
   "execution_count": 31,
   "id": "5fa9ea86",
   "metadata": {},
   "outputs": [
    {
     "name": "stdout",
     "output_type": "stream",
     "text": [
      "root\n",
      " |-- DATA_ACTUAL_DATE: string (nullable = true)\n",
      " |-- DATA_ACTUAL_END_DATE: string (nullable = true)\n",
      " |-- ACCOUNT_RK: string (nullable = true)\n",
      " |-- ACCOUNT_NUMBER: string (nullable = true)\n",
      " |-- CHAR_TYPE: string (nullable = true)\n",
      " |-- CURRENCY_RK: string (nullable = true)\n",
      " |-- CURRENCY_CODE: string (nullable = true)\n",
      "\n"
     ]
    }
   ],
   "source": [
    "data.printSchema()"
   ]
  },
  {
   "cell_type": "code",
   "execution_count": 32,
   "id": "d49e215b",
   "metadata": {},
   "outputs": [],
   "source": [
    "data.createOrReplaceTempView(\"data\")"
   ]
  },
  {
   "cell_type": "code",
   "execution_count": 49,
   "id": "f6a33fa2",
   "metadata": {},
   "outputs": [],
   "source": [
    "data_new = spark.sql(\n",
    "    \"\"\"\n",
    "SELECT to_date(DATA_ACTUAL_DATE) as DATA_ACTUAL_DATE,\n",
    "    to_date(DATA_ACTUAL_END_DATE) as DATA_ACTUAL_END_DATE,\n",
    "    CAST(ACCOUNT_RK AS DECIMAL),\n",
    "    ACCOUNT_NUMBER,\n",
    "    CHAR_TYPE,\n",
    "    CAST(CURRENCY_RK AS DECIMAL),\n",
    "    CURRENCY_CODE\n",
    "FROM data\n",
    "\"\"\"\n",
    ")"
   ]
  },
  {
   "cell_type": "code",
   "execution_count": 50,
   "id": "948bf6d4",
   "metadata": {},
   "outputs": [
    {
     "name": "stdout",
     "output_type": "stream",
     "text": [
      "+----------------+--------------------+----------+--------------------+---------+-----------+-------------+\n",
      "|DATA_ACTUAL_DATE|DATA_ACTUAL_END_DATE|ACCOUNT_RK|      ACCOUNT_NUMBER|CHAR_TYPE|CURRENCY_RK|CURRENCY_CODE|\n",
      "+----------------+--------------------+----------+--------------------+---------+-----------+-------------+\n",
      "|      2018-01-01|          2018-01-31|  36237725|30425840700000583001|        А|         35|          840|\n",
      "|      2018-01-01|          2018-01-31|     24656|30114840700000770002|        А|         35|          840|\n",
      "|      2018-01-01|          2018-01-31|  18849846|30109810500000435003|        П|         34|          643|\n",
      "|      2018-01-01|          2018-01-31|   1972647|30111810700000908001|        П|         34|          643|\n",
      "|      2018-01-01|          2018-01-31|  34157174|30424810100000583001|        А|         34|          643|\n",
      "|      2018-01-01|          2018-01-31|  48829156|30425810700000583002|        А|         34|          643|\n",
      "|      2018-01-01|          2018-01-31|     13905|30202810900000002001|        А|         34|          643|\n",
      "|      2018-01-01|          2018-01-31|     17244|30111810900000672001|        П|         34|          643|\n",
      "|      2018-01-01|          2018-01-31|  34156787|30236826400000009001|        П|         31|          826|\n",
      "|      2018-01-01|          2018-01-31|     17132|30111810000000666001|        П|         34|          643|\n",
      "|      2018-01-01|          2018-01-31|     13560|30110810300000008001|        А|         34|          643|\n",
      "|      2018-01-01|          2018-01-31|     17439|30111810500000438001|        П|         34|          643|\n",
      "|      2018-01-01|          2018-01-31|     17434|30111810900000051004|        П|         34|          643|\n",
      "|      2018-01-01|          2018-01-31|     13630|30102810900000002185|        А|         34|          643|\n",
      "|      2018-01-01|          2018-01-31| 277937699|30221810900000026000|        А|         34|          643|\n",
      "|      2018-01-01|          2018-01-31|     13906|30114756800000051003|        А|         30|          756|\n",
      "|      2018-01-01|          2018-01-31|     14136|30220826800838890001|        П|         31|          826|\n",
      "|      2018-01-01|          2018-01-31|     13904|30204810500000002001|        А|         34|          643|\n",
      "|      2018-01-01|          2018-01-31|  34157147|30236840000000003001|        П|         35|          840|\n",
      "|      2018-01-01|          2018-01-31|     14138|30220978800838890001|        П|         44|          978|\n",
      "+----------------+--------------------+----------+--------------------+---------+-----------+-------------+\n",
      "only showing top 20 rows\n",
      "\n"
     ]
    }
   ],
   "source": [
    "data_new.show()"
   ]
  },
  {
   "cell_type": "code",
   "execution_count": 51,
   "id": "4a25bcdc",
   "metadata": {},
   "outputs": [],
   "source": [
    "data_new.write.insertInto(\"ds.md_account_d\")"
   ]
  },
  {
   "cell_type": "code",
   "execution_count": null,
   "id": "b962a33a",
   "metadata": {},
   "outputs": [],
   "source": []
  }
 ],
 "metadata": {
  "kernelspec": {
   "display_name": "Python 3 (ipykernel)",
   "language": "python",
   "name": "python3"
  },
  "language_info": {
   "codemirror_mode": {
    "name": "ipython",
    "version": 3
   },
   "file_extension": ".py",
   "mimetype": "text/x-python",
   "name": "python",
   "nbconvert_exporter": "python",
   "pygments_lexer": "ipython3",
   "version": "3.11.6"
  }
 },
 "nbformat": 4,
 "nbformat_minor": 5
}
